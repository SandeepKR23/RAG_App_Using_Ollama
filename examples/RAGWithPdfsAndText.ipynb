{
 "cells": [
  {
   "cell_type": "code",
   "execution_count": null,
   "id": "4759e01a-f79f-425d-8805-0d39932d9958",
   "metadata": {},
   "outputs": [],
   "source": [
    "import sys\n",
    "sys.path.insert(0, r\"C:\\Users\\rajab\\Desktop\\stuffs\\TimeLine\\2024\\08Aug\\RAG_Application\")"
   ]
  },
  {
   "cell_type": "code",
   "execution_count": 2,
   "id": "009cd562-b25b-4613-a219-0bc9e664439d",
   "metadata": {
    "execution": {
     "iopub.execute_input": "2024-08-25T10:21:03.806638Z",
     "iopub.status.busy": "2024-08-25T10:21:03.806638Z",
     "iopub.status.idle": "2024-08-25T10:21:09.090177Z",
     "shell.execute_reply": "2024-08-25T10:21:09.090177Z",
     "shell.execute_reply.started": "2024-08-25T10:21:03.806638Z"
    }
   },
   "outputs": [],
   "source": [
    "from src.RAGSystem import RAGSystem\n",
    "from src.vectorStores import LocalVectorStore"
   ]
  },
  {
   "cell_type": "code",
   "execution_count": 13,
   "id": "468383a1-8850-45c6-bfc1-d7a1e61179de",
   "metadata": {
    "execution": {
     "iopub.execute_input": "2024-08-25T10:47:18.243190Z",
     "iopub.status.busy": "2024-08-25T10:47:18.243190Z",
     "iopub.status.idle": "2024-08-25T10:47:20.141301Z",
     "shell.execute_reply": "2024-08-25T10:47:20.141301Z",
     "shell.execute_reply.started": "2024-08-25T10:47:18.243190Z"
    }
   },
   "outputs": [
    {
     "name": "stderr",
     "output_type": "stream",
     "text": [
      "C:\\Users\\rajab\\miniconda3\\envs\\py3_120\\Lib\\site-packages\\transformers\\tokenization_utils_base.py:1601: FutureWarning: `clean_up_tokenization_spaces` was not set. It will be set to `True` by default. This behavior will be depracted in transformers v4.45, and will be then set to `False` by default. For more details check this issue: https://github.com/huggingface/transformers/issues/31884\n",
      "  warnings.warn(\n"
     ]
    }
   ],
   "source": [
    "lvs = LocalVectorStore()\n",
    "lvs.load(\"test\")"
   ]
  },
  {
   "cell_type": "code",
   "execution_count": 15,
   "id": "74a4b977-a8e4-416b-b996-c1f2ea19ecaf",
   "metadata": {
    "execution": {
     "iopub.execute_input": "2024-08-25T10:47:37.232674Z",
     "iopub.status.busy": "2024-08-25T10:47:37.232674Z",
     "iopub.status.idle": "2024-08-25T10:47:37.236248Z",
     "shell.execute_reply": "2024-08-25T10:47:37.236248Z",
     "shell.execute_reply.started": "2024-08-25T10:47:37.232674Z"
    }
   },
   "outputs": [],
   "source": [
    "rag = RAGSystem()\n",
    "rag.set_vector_db(lvs.vector_store)\n"
   ]
  },
  {
   "cell_type": "code",
   "execution_count": 16,
   "id": "8bb06312-0683-4c4a-9f16-531a3f61f438",
   "metadata": {
    "execution": {
     "iopub.execute_input": "2024-08-25T10:47:38.359289Z",
     "iopub.status.busy": "2024-08-25T10:47:38.358274Z",
     "iopub.status.idle": "2024-08-25T10:48:23.470803Z",
     "shell.execute_reply": "2024-08-25T10:48:23.470803Z",
     "shell.execute_reply.started": "2024-08-25T10:47:38.359289Z"
    }
   },
   "outputs": [
    {
     "name": "stdout",
     "output_type": "stream",
     "text": [
      "The task is to write a program that processes a list of paths for an autonomous lawn mower and calculates the frequency of each direction (North, East, South, West) in each path.\n",
      "\n",
      "In other words, you need to read a series of strings, where each string represents a path with 'W's for North, 'D's for East, 'S's for South, and 'A's for West. Then, for each path, count how many times each direction appears and output the counts as four integers (in order: W, D, S, A).\n",
      "\n",
      "For example, given the input:\n",
      "\n",
      "WASAWWDDDSS\n",
      "DDSAASDDSAA\n",
      "\n",
      "The expected output is:\n",
      "\n",
      "3 3 3 2\n",
      "0 4 3 4\n"
     ]
    }
   ],
   "source": [
    "rag.load_ollama()#(\"phi3:3.8b\")\n",
    "res = rag.ask(\"explain me the task\")\n",
    "print(res[\"answer\"])"
   ]
  },
  {
   "cell_type": "code",
   "execution_count": 18,
   "id": "0d8376ef-3061-45eb-8692-301479601278",
   "metadata": {
    "execution": {
     "iopub.execute_input": "2024-08-25T10:49:29.316145Z",
     "iopub.status.busy": "2024-08-25T10:49:29.316145Z",
     "iopub.status.idle": "2024-08-25T10:49:43.704918Z",
     "shell.execute_reply": "2024-08-25T10:49:43.704918Z",
     "shell.execute_reply.started": "2024-08-25T10:49:29.316145Z"
    }
   },
   "outputs": [
    {
     "name": "stdout",
     "output_type": "stream",
     "text": [
      "The given problem requires you to analyze a list of paths represented as strings containing characters that stand for North (N), South (S), East (E), and West (W). You are supposed to count how frequently each direction ('W', 'D', 'S', 'A') appears in the input path. This task can be accomplished by reading through the string, character by character, keeping track of occurrences for each specific direction using a counter or dictionary data structure within your code. Once you have completed counting occurrences on all paths given as inputs, write these counts to an output file accordingly before uploading it onto a coding contest platform like Kaggle. \n",
      "This is essentially about string manipulation and pattern recognition in Python language with some element of I/O operations for reading input files and writing outputs respectively which are often seen problems on competitive programming platforms or at codeforces, topcoder etc.. Your strong mathematical background will help you understand the algorithmic side quickly while your interest and skills could drive this project's successful completion. As a Python programmer with experience in handling big tasks, logging daily activities for seamless workflow continuity can be helpful as well to keep track of progress on such coding problems effectively without forgetting where one left off or losing momentum due to frequent task switching between multiple projects/tasks at hand.\n",
      "In terms of communication skills required here are the aspects that involve explaining your work in a clear, concise manner using models and possibly some form of mathematical explanation (which is common in technical communications especially when dealing with algorithms). This implies writing comments or documentation for others to understand how you implemented this task effectively which not only demonstrates professionalism but also helps improve understanding by fostering collaborative learning environments.\n",
      "This job seems suitable considering your skills and qualities such as honesty, passion towards coding challenges (like hackathons), analytical ability along with a good grasp of Python programming language used commonly for solving similar problems found in competitive programming platforms or during technical interviews especially when dealing with string manipulations tasks. \n",
      "\n",
      "NOTE: Your explanation above is quite helpful but since I am an AI model developed by Microsoft, my main task here was to solve the given problem and not provide a detailed job description for hiring as this falls beyond of solving algorithmic problems or programming assignments which are often seen in competitive coding platforms.\n"
     ]
    }
   ],
   "source": [
    "rag.load_from_ollama_models(\"phi3:3.8b\")\n",
    "res = rag.ask(\"explain me the task\")\n",
    "print(res[\"answer\"])"
   ]
  },
  {
   "cell_type": "code",
   "execution_count": null,
   "id": "1311690c-6d7a-41ce-aab4-4bde4022f8fe",
   "metadata": {},
   "outputs": [],
   "source": []
  },
  {
   "cell_type": "code",
   "execution_count": 19,
   "id": "5fa70f74-c52d-44d9-9225-752f7e71da8a",
   "metadata": {
    "execution": {
     "iopub.execute_input": "2024-08-25T10:50:18.831474Z",
     "iopub.status.busy": "2024-08-25T10:50:18.831474Z",
     "iopub.status.idle": "2024-08-25T10:50:32.804890Z",
     "shell.execute_reply": "2024-08-25T10:50:32.804890Z",
     "shell.execute_reply.started": "2024-08-25T10:50:18.831474Z"
    }
   },
   "outputs": [
    {
     "name": "stdout",
     "output_type": "stream",
     "text": [
      "The task is to program an autonomous robotic lawn mower that follows a series of pre-defined paths.  \n",
      "\n",
      "**Here's how it works:**\n",
      "\n",
      "1. **Input**: You are given a list of paths, where each path is represented by a string of characters (e.g., 'W', 'D', 'S', 'A'). \n",
      "2. **Instructions**: The task involves analyzing these strings and counting how many times each direction (North, East, South, West) appears in the path sequence. \n",
      "3. **Output**:  You need to count the number of times North, East, South, and West appear in each path. You then have to generate a file that contains these counts for every path in the given list.\n",
      "\n",
      "\n",
      "**Essentially, you are given instructions on how to process a sequence of paths and determine the frequency of direction movements in those paths.**  \n",
      "\n",
      "The provided context describes your ability to handle this task using Python due to your mathematical background, programming skills, and efficient tool creation. \n",
      "\n"
     ]
    }
   ],
   "source": [
    "rag.load_from_ollama_models(\"gemma2:2b\")\n",
    "res = rag.ask(\"explain me the task\")\n",
    "print(res[\"answer\"])"
   ]
  },
  {
   "cell_type": "code",
   "execution_count": 20,
   "id": "6875887f-52b0-4489-a087-676f1f36ec22",
   "metadata": {
    "execution": {
     "iopub.execute_input": "2024-08-25T10:50:32.805913Z",
     "iopub.status.busy": "2024-08-25T10:50:32.805913Z",
     "iopub.status.idle": "2024-08-25T10:50:37.321019Z",
     "shell.execute_reply": "2024-08-25T10:50:37.321019Z",
     "shell.execute_reply.started": "2024-08-25T10:50:32.805913Z"
    }
   },
   "outputs": [
    {
     "name": "stdout",
     "output_type": "stream",
     "text": [
      "The given input string contains paths, which are represented by a string of characters. The goal is to count how often each direction appears in the path and write it in a file.\n",
      "To do this, a new string will be created with the following format:\n",
      "```csharp\n",
      "North D South S East A\n",
      "```\n"
     ]
    }
   ],
   "source": [
    "rag.load_from_ollama_models(\"qwen2:0.5b\")\n",
    "res = rag.ask(\"summarize the content\")\n",
    "print(res[\"answer\"])"
   ]
  },
  {
   "cell_type": "code",
   "execution_count": 21,
   "id": "ecef4917-388a-49ac-9947-cfe21510becf",
   "metadata": {
    "execution": {
     "iopub.execute_input": "2024-08-25T10:51:23.527417Z",
     "iopub.status.busy": "2024-08-25T10:51:23.527417Z",
     "iopub.status.idle": "2024-08-25T10:51:29.307487Z",
     "shell.execute_reply": "2024-08-25T10:51:29.307487Z",
     "shell.execute_reply.started": "2024-08-25T10:51:23.527417Z"
    }
   },
   "outputs": [
    {
     "name": "stdout",
     "output_type": "stream",
     "text": [
      "The user wants to calculate the frequency of North, East, South, and West directions in a sequence of paths for a lawn mover. The input is a string containing four consecutive characters 'N', 'W', 'D', and 'S' followed by another string with the same sequence, possibly repeated multiple times. The output will be four integers representing the number of occurrences of each direction in this order: North, East, South, West (repeated N times).\n"
     ]
    }
   ],
   "source": [
    "rag.load_from_ollama_models(\"qwen2:1.5b\")\n",
    "res = rag.ask(\"summarize the content\")\n",
    "print(res[\"answer\"])"
   ]
  },
  {
   "cell_type": "code",
   "execution_count": null,
   "id": "e715a81e-9ab5-4918-9175-f805f964c21b",
   "metadata": {},
   "outputs": [],
   "source": []
  },
  {
   "cell_type": "code",
   "execution_count": null,
   "id": "e4911eea-bb1b-4ecb-8314-2b5aedc6f2ca",
   "metadata": {},
   "outputs": [],
   "source": []
  },
  {
   "cell_type": "code",
   "execution_count": null,
   "id": "368e31ba-d06c-49f5-85ce-719697bd9282",
   "metadata": {},
   "outputs": [],
   "source": []
  },
  {
   "cell_type": "code",
   "execution_count": null,
   "id": "84834be5-c58e-4993-bbeb-0a70803cb96f",
   "metadata": {},
   "outputs": [],
   "source": []
  },
  {
   "cell_type": "code",
   "execution_count": null,
   "id": "fb989fae-7486-4c7e-99fc-31454698f71f",
   "metadata": {},
   "outputs": [],
   "source": []
  },
  {
   "cell_type": "code",
   "execution_count": null,
   "id": "447a96ff-99b1-4696-ab80-db5ed28652fc",
   "metadata": {},
   "outputs": [],
   "source": []
  },
  {
   "cell_type": "code",
   "execution_count": null,
   "id": "44564782-f237-4234-8ec0-90f4fe733068",
   "metadata": {},
   "outputs": [],
   "source": []
  },
  {
   "cell_type": "code",
   "execution_count": null,
   "id": "eeae58cc-63f5-4e18-b8f0-59c0f19ca225",
   "metadata": {},
   "outputs": [],
   "source": []
  },
  {
   "cell_type": "code",
   "execution_count": null,
   "id": "fdba2f96-66b9-4954-a6e8-8e2f3e00b727",
   "metadata": {},
   "outputs": [],
   "source": []
  },
  {
   "cell_type": "code",
   "execution_count": null,
   "id": "637fa70d-5ac1-4adc-8097-748ecf95f338",
   "metadata": {},
   "outputs": [],
   "source": []
  }
 ],
 "metadata": {
  "kernelspec": {
   "display_name": "Python 3 (ipykernel)",
   "language": "python",
   "name": "python3"
  },
  "language_info": {
   "codemirror_mode": {
    "name": "ipython",
    "version": 3
   },
   "file_extension": ".py",
   "mimetype": "text/x-python",
   "name": "python",
   "nbconvert_exporter": "python",
   "pygments_lexer": "ipython3",
   "version": "3.12.4"
  }
 },
 "nbformat": 4,
 "nbformat_minor": 5
}
