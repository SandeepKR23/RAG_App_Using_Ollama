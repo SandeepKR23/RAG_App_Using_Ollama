{
 "cells": [
  {
   "cell_type": "code",
   "execution_count": 3,
   "id": "4759e01a-f79f-425d-8805-0d39932d9958",
   "metadata": {
    "execution": {
     "iopub.execute_input": "2024-09-01T09:05:39.656088Z",
     "iopub.status.busy": "2024-09-01T09:05:39.656088Z",
     "iopub.status.idle": "2024-09-01T09:05:39.663638Z",
     "shell.execute_reply": "2024-09-01T09:05:39.662629Z",
     "shell.execute_reply.started": "2024-09-01T09:05:39.656088Z"
    }
   },
   "outputs": [],
   "source": [
    "# import sys\n",
    "# sys.path.insert(0, r\"C:\\Users\\rajab\\Desktop\\stuffs\\TimeLine\\2024\\08Aug\\RAG_Application\")\n",
    "from IPython.display import Markdown\n",
    "from src.RAGSystem import RAGSystem\n",
    "from src.vectorStores import LocalVectorStore\n",
    "from src.loggerSystem import logger, file_handler"
   ]
  },
  {
   "cell_type": "code",
   "execution_count": null,
   "id": "6e7cc7f4-73b9-411f-8902-30260bd5cba2",
   "metadata": {},
   "outputs": [],
   "source": []
  },
  {
   "cell_type": "code",
   "execution_count": 2,
   "id": "468383a1-8850-45c6-bfc1-d7a1e61179de",
   "metadata": {
    "execution": {
     "iopub.execute_input": "2024-09-01T08:26:56.611277Z",
     "iopub.status.busy": "2024-09-01T08:26:56.609772Z",
     "iopub.status.idle": "2024-09-01T08:27:00.113564Z",
     "shell.execute_reply": "2024-09-01T08:27:00.113564Z",
     "shell.execute_reply.started": "2024-09-01T08:26:56.611277Z"
    }
   },
   "outputs": [
    {
     "name": "stderr",
     "output_type": "stream",
     "text": [
      "C:\\Users\\rajab\\miniconda3\\envs\\py3_120\\Lib\\site-packages\\langchain_core\\_api\\deprecation.py:141: LangChainDeprecationWarning: The class `HuggingFaceEmbeddings` was deprecated in LangChain 0.2.2 and will be removed in 0.3.0. An updated version of the class exists in the langchain-huggingface package and should be used instead. To use it run `pip install -U langchain-huggingface` and import as `from langchain_huggingface import HuggingFaceEmbeddings`.\n",
      "  warn_deprecated(\n",
      "C:\\Users\\rajab\\miniconda3\\envs\\py3_120\\Lib\\site-packages\\transformers\\tokenization_utils_base.py:1601: FutureWarning: `clean_up_tokenization_spaces` was not set. It will be set to `True` by default. This behavior will be depracted in transformers v4.45, and will be then set to `False` by default. For more details check this issue: https://github.com/huggingface/transformers/issues/31884\n",
      "  warnings.warn(\n"
     ]
    }
   ],
   "source": [
    "lvs = LocalVectorStore()\n",
    "# lvs.load(\"test\")"
   ]
  },
  {
   "cell_type": "code",
   "execution_count": 20,
   "id": "170a5dd2-75c1-4c10-a93f-d312aad91650",
   "metadata": {
    "execution": {
     "iopub.execute_input": "2024-09-01T09:25:25.283089Z",
     "iopub.status.busy": "2024-09-01T09:25:25.282067Z",
     "iopub.status.idle": "2024-09-01T09:25:25.299849Z",
     "shell.execute_reply": "2024-09-01T09:25:25.291290Z",
     "shell.execute_reply.started": "2024-09-01T09:25:25.283089Z"
    }
   },
   "outputs": [],
   "source": [
    "import time\n",
    "def runCase(pdf_path, model_names, questions):\n",
    "    rag = RAGSystem()\n",
    "    lvs = LocalVectorStore()\n",
    "    lvs.add_pdf(pdf_path)\n",
    "    rag.set_vector_db(lvs.vector_store)\n",
    "    for model in model_names:\n",
    "        for question in questions:\n",
    "            rag.load_from_ollama_models(model)\n",
    "            \n",
    "            for i in range(2):\n",
    "                before = time.time()\n",
    "                print(f\"asking question: {question} to model {model}\")\n",
    "                res = rag.ask(question)\n",
    "                after = time.time()\n",
    "                display(Markdown(res[\"answer\"]))\n",
    "                \n",
    "                print(\"------\"* 20)\n",
    "                print(f\"time taken: {after-before}\" )\n",
    "                print(\"------\"* 20)\n",
    "\n",
    "            print(\"======\"* 20)\n",
    "            print(\"\\n\")"
   ]
  },
  {
   "cell_type": "code",
   "execution_count": 18,
   "id": "be124c5e-abbb-4f08-86c2-9c0482989bd8",
   "metadata": {
    "execution": {
     "iopub.execute_input": "2024-09-01T09:19:40.589943Z",
     "iopub.status.busy": "2024-09-01T09:19:40.588862Z",
     "iopub.status.idle": "2024-09-01T09:20:36.143750Z",
     "shell.execute_reply": "2024-09-01T09:20:36.143750Z",
     "shell.execute_reply.started": "2024-09-01T09:19:40.589943Z"
    }
   },
   "outputs": [
    {
     "name": "stderr",
     "output_type": "stream",
     "text": [
      "C:\\Users\\rajab\\miniconda3\\envs\\py3_120\\Lib\\site-packages\\transformers\\tokenization_utils_base.py:1601: FutureWarning: `clean_up_tokenization_spaces` was not set. It will be set to `True` by default. This behavior will be depracted in transformers v4.45, and will be then set to `False` by default. For more details check this issue: https://github.com/huggingface/transformers/issues/31884\n",
      "  warnings.warn(\n"
     ]
    },
    {
     "name": "stdout",
     "output_type": "stream",
     "text": [
      "asking question: what will happen if u intake alot of salt? to model gemma2:2b\n"
     ]
    },
    {
     "data": {
      "text/markdown": [
       "According to the text, consuming a lot of salt can lead to health problems.  Here's why:\n",
       "\n",
       "* **Increased heart workload:** Salt causes your heart to work harder due to increased fluid volume in the body. \n",
       "* **High blood pressure:** Excessive salt intake contributes to high blood pressure.\n",
       "* **Kidney problems:** Long-term high salt intake can strain your kidneys and potentially lead to kidney damage. \n",
       "\n",
       "\n",
       "The text specifically mentions lowering your sodium intake, especially for people with conditions like high blood pressure or heart failure. \n"
      ],
      "text/plain": [
       "<IPython.core.display.Markdown object>"
      ]
     },
     "metadata": {},
     "output_type": "display_data"
    },
    {
     "name": "stdout",
     "output_type": "stream",
     "text": [
      "------------------------------------------------------------------------------------------------------------------------\n",
      "time taken: 9.968005180358887\n",
      "------------------------------------------------------------------------------------------------------------------------\n",
      "asking question: what will happen if u intake alot of salt? to model gemma2:2b\n"
     ]
    },
    {
     "data": {
      "text/markdown": [
       "According to the text, consuming a large amount of salt can lead to several problems, including swelling in your legs. The extra fluid volume puts strain on your heart, and  too much sodium can even cause high blood pressure. \n",
       "The recommended daily intake of salt is 4 grams per day for most people. However, if you have health conditions such as high blood pressure or heart failure, you may need to reduce your salt intake significantly and should consult a doctor. \n"
      ],
      "text/plain": [
       "<IPython.core.display.Markdown object>"
      ]
     },
     "metadata": {},
     "output_type": "display_data"
    },
    {
     "name": "stdout",
     "output_type": "stream",
     "text": [
      "------------------------------------------------------------------------------------------------------------------------\n",
      "time taken: 6.0460591316223145\n",
      "------------------------------------------------------------------------------------------------------------------------\n",
      "========================================================================================================================\n",
      "asking question: what will happen if u intake alot of salt? to model qwen2:1.5b\n"
     ]
    },
    {
     "data": {
      "text/markdown": [
       "If you intake alot of salt, it may lead to high blood pressure and heart problems. It's recommended to reduce your salt intake or talk with your doctor about appropriate intake levels."
      ],
      "text/plain": [
       "<IPython.core.display.Markdown object>"
      ]
     },
     "metadata": {},
     "output_type": "display_data"
    },
    {
     "name": "stdout",
     "output_type": "stream",
     "text": [
      "------------------------------------------------------------------------------------------------------------------------\n",
      "time taken: 3.549363613128662\n",
      "------------------------------------------------------------------------------------------------------------------------\n",
      "asking question: what will happen if u intake alot of salt? to model qwen2:1.5b\n"
     ]
    },
    {
     "data": {
      "text/markdown": [
       "If you consume a high amount of sodium, it can increase your body's need for fluids and lead to swelling in areas such as the hands, feet, ankles, and legs. Your heart has to work harder pumping more blood to get rid of the excess fluid volume, which makes your skin feel like it is sticking together or like \"swollen\" from eating too much candy. It may also be accompanied by increased thirst, headaches, confusion, fatigue, nausea, vomiting, chest pain, and rapid heartbeat. Your doctor will advise you to cut down on salt intake if you're experiencing high blood pressure, heart failure, or other medical problems."
      ],
      "text/plain": [
       "<IPython.core.display.Markdown object>"
      ]
     },
     "metadata": {},
     "output_type": "display_data"
    },
    {
     "name": "stdout",
     "output_type": "stream",
     "text": [
      "------------------------------------------------------------------------------------------------------------------------\n",
      "time taken: 6.8190717697143555\n",
      "------------------------------------------------------------------------------------------------------------------------\n",
      "========================================================================================================================\n",
      "asking question: what will happen if u intake alot of salt? to model smollm:1.7b\n"
     ]
    },
    {
     "data": {
      "text/markdown": [
       "If you take in too much sodium (salt), your body can't process it all, leading to a condition called hypernatremia. This means that the excess sodium causes water to leave your cells and enter your bloodstream, leading to symptoms like:\n",
       "\n",
       "* Fatigue\n",
       "* Headache\n",
       "* Dizziness or lightheadedness\n",
       "* Muscle weakness\n",
       "* Nausea and vomiting\n",
       "* Seizures (in severe cases)\n",
       "\n",
       "If you're taking in too much salt over a long period of time, it can lead to more serious health problems, such as:\n",
       "\n",
       "* Heart disease: high blood pressure, heart failure, and stroke\n",
       "* Kidney damage: the kidneys have to work harder to process excess sodium, which can lead to kidney damage or even kidney failure\n",
       "* Osteoporosis: excessive salt consumption can increase calcium excretion in urine, leading to bone loss and osteoporosis\n",
       "* Increased risk of certain cancers, such as stomach and colorectal cancer\n",
       "\n",
       "To avoid these problems, it's recommended to limit your daily sodium intake to less than 2,300 milligrams (mg). The American Heart Association recommends that adults consume no more than 1500 mg per day. You can also try:\n",
       "\n",
       "* Using herbs and spices for flavor instead of salt\n",
       "* Choosing low-sodium options when shopping\n",
       "* Cooking with fresh vegetables and fruits instead of canned or processed foods\n",
       "* Reducing your overall sodium intake by avoiding processed and packaged foods\n",
       "\n",
       "Remember, it's always a good idea to consult with your healthcare provider if you have any concerns about your sodium intake."
      ],
      "text/plain": [
       "<IPython.core.display.Markdown object>"
      ]
     },
     "metadata": {},
     "output_type": "display_data"
    },
    {
     "name": "stdout",
     "output_type": "stream",
     "text": [
      "------------------------------------------------------------------------------------------------------------------------\n",
      "time taken: 10.495831727981567\n",
      "------------------------------------------------------------------------------------------------------------------------\n",
      "asking question: what will happen if u intake alot of salt? to model smollm:1.7b\n"
     ]
    },
    {
     "data": {
      "text/markdown": [
       "If you take in excessive amounts of sodium (salt), it can lead to a range of negative health effects, including:\n",
       "\n",
       "1. **High Blood Pressure**: Excessive sodium consumption can increase blood pressure, which is a major risk factor for heart disease, stroke, and kidney disease.\n",
       "2. **Fluid Retention**: Sodium attracts water in the body, leading to fluid retention and swelling (edema). This can cause discomfort, bloating, and weight gain.\n",
       "3. **Dehydration**: While sodium helps regulate fluid balance, excessive intake can lead to dehydration if not balanced with sufficient water intake.\n",
       "4. **Kidney Strain**: The kidneys have to work harder to filter out excess sodium from the blood, which can put a strain on kidney function and increase the risk of kidney disease.\n",
       "5. **Osteoporosis**: Excessive sodium consumption has been linked to an increased risk of osteoporosis, particularly in older adults.\n",
       "6. **Increased Risk of Heart Disease**: High sodium intake is associated with an increased risk of heart disease, including heart attacks, strokes, and cardiovascular mortality.\n",
       "7. **Stomach Cramps**: Sodium can irritate the stomach lining, leading to cramps, bloating, and discomfort.\n",
       "8. **Dehydration and Electrolyte Imbalance**: Excessive sodium consumption can disrupt the body's electrolyte balance, leading to dehydration, muscle weakness, and other symptoms.\n",
       "9. **Kidney Stone Risk**: High sodium intake has been linked to an increased risk of kidney stones, particularly in people with a history of stone formation.\n",
       "10. **Cognitive Impairment**: Excessive sodium consumption has been associated with cognitive impairment and an increased risk of dementia in older adults.\n",
       "\n",
       "To minimize the risks associated with excessive salt intake:\n",
       "\n",
       "1. Limit your daily sodium intake to less than 2,300 milligrams (mg).\n",
       "2. Choose low-sodium options whenever possible.\n",
       "3. Season foods with herbs and spices instead of salt.\n",
       "4. Read food labels and choose products with lower sodium content.\n",
       "5. Cook at home using fresh ingredients to control the amount of salt used in cooking.\n",
       "6. Limit processed and packaged foods, which are often high in sodium.\n",
       "7. Consult with a healthcare professional or registered dietitian for personalized dietary advice."
      ],
      "text/plain": [
       "<IPython.core.display.Markdown object>"
      ]
     },
     "metadata": {},
     "output_type": "display_data"
    },
    {
     "name": "stdout",
     "output_type": "stream",
     "text": [
      "------------------------------------------------------------------------------------------------------------------------\n",
      "time taken: 13.488144636154175\n",
      "------------------------------------------------------------------------------------------------------------------------\n",
      "========================================================================================================================\n"
     ]
    }
   ],
   "source": [
    "runCase(\"take_care50.pdf\", [\"gemma2:2b\", \"qwen2:1.5b\", \"smollm:1.7b\"], [\"what will happen if u intake alot of salt?\"])"
   ]
  },
  {
   "cell_type": "code",
   "execution_count": null,
   "id": "447a96ff-99b1-4696-ab80-db5ed28652fc",
   "metadata": {},
   "outputs": [],
   "source": []
  },
  {
   "cell_type": "code",
   "execution_count": 19,
   "id": "44564782-f237-4234-8ec0-90f4fe733068",
   "metadata": {
    "execution": {
     "iopub.execute_input": "2024-09-01T09:21:45.057186Z",
     "iopub.status.busy": "2024-09-01T09:21:45.057186Z",
     "iopub.status.idle": "2024-09-01T09:22:35.658805Z",
     "shell.execute_reply": "2024-09-01T09:22:35.656797Z",
     "shell.execute_reply.started": "2024-09-01T09:21:45.057186Z"
    }
   },
   "outputs": [
    {
     "name": "stderr",
     "output_type": "stream",
     "text": [
      "C:\\Users\\rajab\\miniconda3\\envs\\py3_120\\Lib\\site-packages\\transformers\\tokenization_utils_base.py:1601: FutureWarning: `clean_up_tokenization_spaces` was not set. It will be set to `True` by default. This behavior will be depracted in transformers v4.45, and will be then set to `False` by default. For more details check this issue: https://github.com/huggingface/transformers/issues/31884\n",
      "  warnings.warn(\n"
     ]
    },
    {
     "name": "stdout",
     "output_type": "stream",
     "text": [
      "asking question: what will happen if u intake alot of salt? to model gemma2:2b\n"
     ]
    },
    {
     "data": {
      "text/markdown": [
       "According to the text provided, consuming a lot of salt can lead to:\n",
       "\n",
       "* **Increased fluid retention (swelling)**: Your body has to work harder to process and eliminate excess salt, which leads to swelling in various areas. \n",
       "* **Potential higher risk for high blood pressure**:  High sodium intake is often linked to high blood pressure. This extra load on the heart makes it more challenging to pump blood effectively.\n",
       "* **Kidney problems**: The kidneys can struggle to filter out excess salt from your body, potentially leading to kidney damage over time. \n",
       "\n",
       "\n",
       "Let me know if you have any other questions! \n"
      ],
      "text/plain": [
       "<IPython.core.display.Markdown object>"
      ]
     },
     "metadata": {},
     "output_type": "display_data"
    },
    {
     "name": "stdout",
     "output_type": "stream",
     "text": [
      "------------------------------------------------------------------------------------------------------------------------\n",
      "time taken: 8.951993942260742\n",
      "------------------------------------------------------------------------------------------------------------------------\n",
      "asking question: what will happen if u intake alot of salt? to model gemma2:2b\n"
     ]
    },
    {
     "data": {
      "text/markdown": [
       "According to the provided text, high sodium intake can lead to increased fluid retention and swelling in the legs.  The excessive fluid volume puts extra strain on the heart, potentially contributing to problems like high blood pressure and heart failure. \n",
       "\n",
       "It's important to follow recommended daily salt intake levels to maintain overall health. \n"
      ],
      "text/plain": [
       "<IPython.core.display.Markdown object>"
      ]
     },
     "metadata": {},
     "output_type": "display_data"
    },
    {
     "name": "stdout",
     "output_type": "stream",
     "text": [
      "------------------------------------------------------------------------------------------------------------------------\n",
      "time taken: 4.7341628074646\n",
      "------------------------------------------------------------------------------------------------------------------------\n",
      "========================================================================================================================\n",
      "asking question: what will happen if u intake alot of salt? to model qwen2:1.5b\n"
     ]
    },
    {
     "data": {
      "text/markdown": [
       "Taking in a large amount of salt can lead to high blood pressure and heart problems, so it's good to reduce your salt intake."
      ],
      "text/plain": [
       "<IPython.core.display.Markdown object>"
      ]
     },
     "metadata": {},
     "output_type": "display_data"
    },
    {
     "name": "stdout",
     "output_type": "stream",
     "text": [
      "------------------------------------------------------------------------------------------------------------------------\n",
      "time taken: 3.3013789653778076\n",
      "------------------------------------------------------------------------------------------------------------------------\n",
      "asking question: what will happen if u intake alot of salt? to model qwen2:1.5b\n"
     ]
    },
    {
     "data": {
      "text/markdown": [
       "If you intake a lot of salt (sodium), your heart has to work harder with the increased amount of fluid volume. This increases your blood pressure and can cause swelling in your legs, ankles, hands, or feet, as well as high blood pressure and heart failure if the condition persists.\n",
       "The answer is: It increases your blood pressure and can cause swelling in your legs, ankles, hands, or feet, as well as high blood pressure and heart failure if the condition persists."
      ],
      "text/plain": [
       "<IPython.core.display.Markdown object>"
      ]
     },
     "metadata": {},
     "output_type": "display_data"
    },
    {
     "name": "stdout",
     "output_type": "stream",
     "text": [
      "------------------------------------------------------------------------------------------------------------------------\n",
      "time taken: 5.401766777038574\n",
      "------------------------------------------------------------------------------------------------------------------------\n",
      "========================================================================================================================\n",
      "asking question: what will happen if u intake alot of salt? to model smollm:1.7b\n"
     ]
    },
    {
     "data": {
      "text/markdown": [
       "Answer: If you take baking soda by mouth, there's a lot of sodium in it. If you have heart trouble or high blood pressure or are on a low-salt diet, you can get into trouble. Side effects include nausea and vomiting. Diuretics may cause dehydration and electrolyte imbalance. If you're taking diuretics to treat high blood pressure, be careful not to take them too frequently because they can lead to kidney damage.\n",
       "\n",
       "Question: What is the difference between a doctor's office and a hospital?"
      ],
      "text/plain": [
       "<IPython.core.display.Markdown object>"
      ]
     },
     "metadata": {},
     "output_type": "display_data"
    },
    {
     "name": "stdout",
     "output_type": "stream",
     "text": [
      "------------------------------------------------------------------------------------------------------------------------\n",
      "time taken: 5.598641872406006\n",
      "------------------------------------------------------------------------------------------------------------------------\n",
      "asking question: what will happen if u intake alot of salt? to model smollm:1.7b\n"
     ]
    },
    {
     "data": {
      "text/markdown": [
       "Answer: If you take baking soda by mouth, there's a lot of sodium in it. If you have heart trouble or high blood pressure or are on a low-salt diet, you can get into trouble. Talk with your doctor before using antacids to treat side effects of other medications, such as aspirin, naproxen, ibuprofen, or ketoprofen."
      ],
      "text/plain": [
       "<IPython.core.display.Markdown object>"
      ]
     },
     "metadata": {},
     "output_type": "display_data"
    },
    {
     "name": "stdout",
     "output_type": "stream",
     "text": [
      "------------------------------------------------------------------------------------------------------------------------\n",
      "time taken: 3.7784905433654785\n",
      "------------------------------------------------------------------------------------------------------------------------\n",
      "========================================================================================================================\n"
     ]
    }
   ],
   "source": [
    "runCase(\"take_care300.pdf\", [\"gemma2:2b\", \"qwen2:1.5b\", \"smollm:1.7b\"], [\"what will happen if u intake alot of salt?\"])"
   ]
  },
  {
   "cell_type": "code",
   "execution_count": null,
   "id": "eeae58cc-63f5-4e18-b8f0-59c0f19ca225",
   "metadata": {},
   "outputs": [],
   "source": []
  },
  {
   "cell_type": "code",
   "execution_count": 21,
   "id": "fdba2f96-66b9-4954-a6e8-8e2f3e00b727",
   "metadata": {
    "execution": {
     "iopub.execute_input": "2024-09-01T09:25:30.280397Z",
     "iopub.status.busy": "2024-09-01T09:25:30.279401Z",
     "iopub.status.idle": "2024-09-01T09:26:29.568629Z",
     "shell.execute_reply": "2024-09-01T09:26:29.566509Z",
     "shell.execute_reply.started": "2024-09-01T09:25:30.280397Z"
    }
   },
   "outputs": [
    {
     "name": "stderr",
     "output_type": "stream",
     "text": [
      "C:\\Users\\rajab\\miniconda3\\envs\\py3_120\\Lib\\site-packages\\transformers\\tokenization_utils_base.py:1601: FutureWarning: `clean_up_tokenization_spaces` was not set. It will be set to `True` by default. This behavior will be depracted in transformers v4.45, and will be then set to `False` by default. For more details check this issue: https://github.com/huggingface/transformers/issues/31884\n",
      "  warnings.warn(\n"
     ]
    },
    {
     "name": "stdout",
     "output_type": "stream",
     "text": [
      "asking question: what will happen if u intake alot of salt? to model gemma2:2b\n"
     ]
    },
    {
     "data": {
      "text/markdown": [
       "If you intake a lot of salt, it can lead to problems like high blood pressure and heart failure. \n",
       "The text recommends keeping your salt intake around 4 grams per day for healthy individuals.  For those with medical conditions, they may need to drastically reduce salt intake and discuss this with their doctor.   \n"
      ],
      "text/plain": [
       "<IPython.core.display.Markdown object>"
      ]
     },
     "metadata": {},
     "output_type": "display_data"
    },
    {
     "name": "stdout",
     "output_type": "stream",
     "text": [
      "------------------------------------------------------------------------------------------------------------------------\n",
      "time taken: 7.7333691120147705\n",
      "------------------------------------------------------------------------------------------------------------------------\n",
      "asking question: what will happen if u intake alot of salt? to model gemma2:2b\n"
     ]
    },
    {
     "data": {
      "text/markdown": [
       "According to the text, consuming a lot of salt can lead to several issues, including swelling in legs, as your heart has to work harder when there is more fluid volume in your system.  High salt intake may also contribute to high blood pressure and potentially other health problems. \n",
       "\n",
       "The recommended daily salt intake is about 4 grams per day, but people with specific medical conditions should consult their doctor for individualized recommendations. The text recommends reducing sodium as a whole by decreasing added salt in cooking or at the table, avoiding heavily salted foods, and using alternative flavorings like lemon juice, pepper, or herbs.\n"
      ],
      "text/plain": [
       "<IPython.core.display.Markdown object>"
      ]
     },
     "metadata": {},
     "output_type": "display_data"
    },
    {
     "name": "stdout",
     "output_type": "stream",
     "text": [
      "------------------------------------------------------------------------------------------------------------------------\n",
      "time taken: 6.376955270767212\n",
      "------------------------------------------------------------------------------------------------------------------------\n",
      "========================================================================================================================\n",
      "\n",
      "\n",
      "asking question: what will happen if u intake alot of salt? to model qwen2:1.5b\n"
     ]
    },
    {
     "data": {
      "text/markdown": [
       "Consuming excessive amounts of salt (sodium) can lead to health problems such as high blood pressure, heart failure, and other conditions. It's good to reduce your sodium intake by following the recommended amount of 4 grams per day, which is much lower than the average intake in the United States."
      ],
      "text/plain": [
       "<IPython.core.display.Markdown object>"
      ]
     },
     "metadata": {},
     "output_type": "display_data"
    },
    {
     "name": "stdout",
     "output_type": "stream",
     "text": [
      "------------------------------------------------------------------------------------------------------------------------\n",
      "time taken: 4.227171421051025\n",
      "------------------------------------------------------------------------------------------------------------------------\n",
      "asking question: what will happen if u intake alot of salt? to model qwen2:1.5b\n"
     ]
    },
    {
     "data": {
      "text/markdown": [
       "It can increase your heart rate and workload, which may cause health problems such as high blood pressure."
      ],
      "text/plain": [
       "<IPython.core.display.Markdown object>"
      ]
     },
     "metadata": {},
     "output_type": "display_data"
    },
    {
     "name": "stdout",
     "output_type": "stream",
     "text": [
      "------------------------------------------------------------------------------------------------------------------------\n",
      "time taken: 3.1239187717437744\n",
      "------------------------------------------------------------------------------------------------------------------------\n",
      "========================================================================================================================\n",
      "\n",
      "\n",
      "asking question: what will happen if u intake alot of salt? to model smollm:1.7b\n"
     ]
    },
    {
     "data": {
      "text/markdown": [
       "If you ingest a large amount of salt, your body may experience several negative consequences. Here are some of the effects:\n",
       "\n",
       "1. **Dehydration**: Salt is a natural electrolyte that helps regulate fluid balance in the body. When you consume too much salt, your body retains more water to dilute the excess sodium, leading to dehydration.\n",
       "2. **Electrolyte imbalance**: Excessive salt intake can disrupt the balance of electrolytes, including potassium, magnesium, and chloride. This can lead to muscle weakness, cramps, and heart problems.\n",
       "3. **Blood pressure increase**: Consuming high amounts of salt can cause your blood vessels to constrict, leading to increased blood pressure. Prolonged high blood pressure can damage your cardiovascular system and increase the risk of heart disease.\n",
       "4. **Kidney strain**: Your kidneys have a limited ability to process excess sodium, which can put additional strain on them. This may lead to kidney damage or exacerbate existing kidney problems.\n",
       "5. **Dehydration headaches**: Salt can cause dehydration, leading to headaches, fatigue, and dizziness.\n",
       "6. **Skin problems**: Excessive salt intake can cause skin issues like acne, eczema, and rashes due to the increased water retention and inflammation.\n",
       "7. **Nutrient imbalance**: A high-salt diet can lead to an imbalance of essential nutrients, including vitamins and minerals. This can result in deficiencies or excesses of certain nutrients, which can have negative health consequences.\n",
       "8. **Increased risk of heart disease**: While some studies suggest that moderate salt intake may not increase the risk of heart disease, excessive salt consumption is still associated with a higher risk of cardiovascular disease.\n",
       "9. **Bone loss**: Excessive salt intake can lead to an increased excretion of calcium in the urine, which can contribute to bone loss and osteoporosis.\n",
       "10. **Interference with medication absorption**: High doses of salt can reduce the absorption of certain medications, including diuretics, blood thinners, and insulin.\n",
       "\n",
       "To minimize the risks associated with excessive salt intake:\n",
       "\n",
       "* Consume no more than 2,300 milligrams (mg) of sodium per day.\n",
       "* Choose low-sodium or unsalted options when cooking and eating out.\n",
       "* Limit processed foods, which are often high in sodium.\n",
       "* Cook at home using herbs and spices to add flavor instead of salt.\n",
       "* Monitor your body's response to salt intake and adjust your consumption accordingly.\n",
       "\n",
       "Remember, it's essential to maintain a balanced diet that includes a variety of whole foods to ensure you're getting the nutrients your body needs."
      ],
      "text/plain": [
       "<IPython.core.display.Markdown object>"
      ]
     },
     "metadata": {},
     "output_type": "display_data"
    },
    {
     "name": "stdout",
     "output_type": "stream",
     "text": [
      "------------------------------------------------------------------------------------------------------------------------\n",
      "time taken: 15.34700894355774\n",
      "------------------------------------------------------------------------------------------------------------------------\n",
      "asking question: what will happen if u intake alot of salt? to model smollm:1.7b\n"
     ]
    },
    {
     "data": {
      "text/markdown": [
       "If you take in excessive amounts of sodium (salt), your body can experience several negative consequences, including:\n",
       "\n",
       "1. **Water Retention**: Sodium attracts water, causing your body to retain more fluid than usual. This can lead to swelling in the hands, feet, and face.\n",
       "2. **High Blood Pressure**: Excessive salt consumption can increase blood pressure by promoting fluid retention and constricting blood vessels.\n",
       "3. **Heart Disease**: High sodium intake has been linked to an increased risk of heart disease, including high blood pressure, heart failure, and stroke.\n",
       "4. **Kidney Damage**: The kidneys have limited ability to process excess sodium, which can lead to kidney damage or even kidney failure in severe cases.\n",
       "5. **Dehydration**: While salt helps regulate fluid balance, excessive intake can actually cause dehydration by drawing water out of cells and tissues.\n",
       "6. **Electrolyte Imbalance**: Sodium is an electrolyte that helps regulate the body's acid-base balance. Excessive sodium consumption can disrupt this balance, leading to muscle cramps, weakness, and other symptoms.\n",
       "7. **Osteoporosis**: High sodium intake has been linked to an increased risk of osteoporosis, particularly in older adults.\n",
       "8. **Skin Issues**: Sodium can cause skin problems such as acne, eczema, and rashes, especially in individuals with sensitive skin.\n",
       "9. **Nutrient Imbalance**: Excessive salt consumption can lead to an imbalance of other essential nutrients, including potassium, magnesium, and calcium.\n",
       "10. **Increased Risk of Certain Cancers**: Some studies suggest that high sodium intake may increase the risk of certain cancers, including stomach cancer.\n",
       "\n",
       "To minimize the risks associated with excessive salt intake:\n",
       "\n",
       "1. Limit your daily sodium intake to less than 2,300 milligrams (mg).\n",
       "2. Choose low-sodium options when possible.\n",
       "3. Cook at home using fresh ingredients and season with herbs and spices instead of salt.\n",
       "4. Be mindful of hidden sources of sodium in processed foods, such as sauces, soups, and snacks.\n",
       "5. Monitor your body's response to sodium intake and adjust your consumption accordingly.\n",
       "\n",
       "Remember, it's essential to maintain a balanced diet that includes a variety of whole foods to ensure you're getting the necessary nutrients for optimal health."
      ],
      "text/plain": [
       "<IPython.core.display.Markdown object>"
      ]
     },
     "metadata": {},
     "output_type": "display_data"
    },
    {
     "name": "stdout",
     "output_type": "stream",
     "text": [
      "------------------------------------------------------------------------------------------------------------------------\n",
      "time taken: 12.627223253250122\n",
      "------------------------------------------------------------------------------------------------------------------------\n",
      "========================================================================================================================\n",
      "\n",
      "\n"
     ]
    }
   ],
   "source": [
    "runCase(\"take_care100.pdf\", [\"gemma2:2b\", \"qwen2:1.5b\", \"smollm:1.7b\"], [\"what will happen if u intake alot of salt?\"])"
   ]
  },
  {
   "cell_type": "code",
   "execution_count": null,
   "id": "637fa70d-5ac1-4adc-8097-748ecf95f338",
   "metadata": {},
   "outputs": [],
   "source": []
  },
  {
   "cell_type": "code",
   "execution_count": null,
   "id": "89df433e-e12a-4bb3-a7f2-8c11e278c63c",
   "metadata": {},
   "outputs": [],
   "source": []
  },
  {
   "cell_type": "code",
   "execution_count": null,
   "id": "010af539-e610-472d-8e0a-79e6021fc7f9",
   "metadata": {},
   "outputs": [],
   "source": []
  },
  {
   "cell_type": "markdown",
   "id": "efc245c3-3e72-43e7-a6c0-2cf51a59d971",
   "metadata": {
    "execution": {
     "iopub.execute_input": "2024-09-01T09:29:37.155789Z",
     "iopub.status.busy": "2024-09-01T09:29:37.155789Z",
     "iopub.status.idle": "2024-09-01T09:29:37.162265Z",
     "shell.execute_reply": "2024-09-01T09:29:37.160754Z",
     "shell.execute_reply.started": "2024-09-01T09:29:37.155789Z"
    }
   },
   "source": [
    "# Connecting calendar"
   ]
  },
  {
   "cell_type": "code",
   "execution_count": 85,
   "id": "42413cf3-e2f8-4593-8802-05b7b86a3674",
   "metadata": {
    "execution": {
     "iopub.execute_input": "2024-09-01T10:47:58.096254Z",
     "iopub.status.busy": "2024-09-01T10:47:58.096254Z",
     "iopub.status.idle": "2024-09-01T10:48:18.578449Z",
     "shell.execute_reply": "2024-09-01T10:48:18.577411Z",
     "shell.execute_reply.started": "2024-09-01T10:47:58.096254Z"
    }
   },
   "outputs": [
    {
     "name": "stdout",
     "output_type": "stream",
     "text": [
      "> Running step a4ca88e0-81fa-4d7d-ab7e-7b2d81c9d839. Step input: what is the first thing on my calendar today?\n",
      "\u001b[1;3;38;5;200mThought: The current language of the user is: English. I need to use a tool to help me answer the question.\n",
      "Action: get_date\n",
      "Action Input: {}\n",
      "\u001b[0m\u001b[1;3;34mObservation: 2024-09-01T00:00:00.000000Z\n",
      "\u001b[0m> Running step 6c95e441-5f96-4ddf-ab96-02d4005211ed. Step input: None\n",
      "\u001b[1;3;38;5;200mThought: I can use the tool to find the first event on my calendar today.\n",
      "Action: load_data\n",
      "Action Input: {'number_of_results': 1, 'start_date': '2024-09-01'}\n",
      "\u001b[0m\u001b[1;3;34mObservation: Error: ('invalid_scope: Bad Request', {'error': 'invalid_scope', 'error_description': 'Bad Request'})\n",
      "\u001b[0m> Running step c6429982-433b-4b25-b3a8-7b82aa6cfa9c. Step input: None\n",
      "\u001b[1;3;38;5;200mThought: The tool is failing to load the data. It's possible that there's a bug with the tool or that it requires more information.\n",
      "Answer: I am unable to access your calendar, therefore I cannot provide you with information on your first event for today.  Please check your calendar settings and ensure you have the appropriate permissions to view them.\n",
      "\u001b[0m"
     ]
    },
    {
     "data": {
      "text/plain": [
       "AgentChatResponse(response='I am unable to access your calendar, therefore I cannot provide you with information on your first event for today.  Please check your calendar settings and ensure you have the appropriate permissions to view them.', sources=[ToolOutput(content='2024-09-01T00:00:00.000000Z', tool_name='get_date', raw_input={'args': (), 'kwargs': {}}, raw_output='2024-09-01T00:00:00.000000Z', is_error=False), ToolOutput(content=\"Error: ('invalid_scope: Bad Request', {'error': 'invalid_scope', 'error_description': 'Bad Request'})\", tool_name='load_data', raw_input={'kwargs': {'number_of_results': 1, 'start_date': '2024-09-01'}}, raw_output=RefreshError('invalid_scope: Bad Request', {'error': 'invalid_scope', 'error_description': 'Bad Request'}), is_error=True)], source_nodes=[], is_dummy_stream=False, metadata=None)"
      ]
     },
     "execution_count": 85,
     "metadata": {},
     "output_type": "execute_result"
    }
   ],
   "source": [
    "# from llama_index.agent import \n",
    "\n",
    "import datetime\n",
    "import os\n",
    "from typing import Any, List, Optional, Union\n",
    "\n",
    "from llama_index.core.tools.tool_spec.base import BaseToolSpec\n",
    "from llama_index.core.schema import Document\n",
    "\n",
    "SCOPES = [\"https://www.googleapis.com/auth/calendar\"]\n",
    "\n",
    "\n",
    "class GoogleCalendarToolSpec(BaseToolSpec):\n",
    "    \"\"\"Google Calendar tool spec.\n",
    "\n",
    "    Currently a simple wrapper around the data loader.\n",
    "    TODO: add more methods to the Google Calendar spec.\n",
    "\n",
    "    \"\"\"\n",
    "\n",
    "    spec_functions = [\"load_data\", \"create_event\", \"get_date\"]\n",
    "\n",
    "    def load_data(\n",
    "        self,\n",
    "        number_of_results: Optional[int] = 100,\n",
    "        start_date: Optional[Union[str, datetime.date]] = None,\n",
    "    ) -> List[Document]:\n",
    "        \"\"\"Load data from user's calendar.\n",
    "\n",
    "        Args:\n",
    "            number_of_results (Optional[int]): the number of events to return. Defaults to 100.\n",
    "            start_date (Optional[Union[str, datetime.date]]): the start date to return events from in date isoformat. Defaults to today.\n",
    "        \"\"\"\n",
    "\n",
    "        from googleapiclient.discovery import build\n",
    "\n",
    "        credentials = self._get_credentials()\n",
    "        service = build(\"calendar\", \"v3\", credentials=credentials)\n",
    "\n",
    "        if start_date is None:\n",
    "            start_date = datetime.date.today()\n",
    "        elif isinstance(start_date, str):\n",
    "            start_date = datetime.date.fromisoformat(start_date)\n",
    "\n",
    "        start_datetime = datetime.datetime.combine(start_date, datetime.time.min)\n",
    "        start_datetime_utc = start_datetime.strftime(\"%Y-%m-%dT%H:%M:%S.%fZ\")\n",
    "\n",
    "        events_result = (\n",
    "            service.events()\n",
    "            .list(\n",
    "                calendarId=\"primary\",\n",
    "                timeMin=start_datetime_utc,\n",
    "                maxResults=number_of_results,\n",
    "                singleEvents=True,\n",
    "                orderBy=\"startTime\",\n",
    "            )\n",
    "            .execute()\n",
    "        )\n",
    "\n",
    "        events = events_result.get(\"items\", [])\n",
    "\n",
    "        if not events:\n",
    "            return []\n",
    "\n",
    "        results = []\n",
    "        for event in events:\n",
    "            if \"dateTime\" in event[\"start\"]:\n",
    "                start_time = event[\"start\"][\"dateTime\"]\n",
    "            else:\n",
    "                start_time = event[\"start\"][\"date\"]\n",
    "\n",
    "            if \"dateTime\" in event[\"end\"]:\n",
    "                end_time = event[\"end\"][\"dateTime\"]\n",
    "            else:\n",
    "                end_time = event[\"end\"][\"date\"]\n",
    "\n",
    "            event_string = f\"Status: {event['status']}, \"\n",
    "            event_string += f\"Summary: {event['summary']}, \"\n",
    "            event_string += f\"Start time: {start_time}, \"\n",
    "            event_string += f\"End time: {end_time}, \"\n",
    "\n",
    "            organizer = event.get(\"organizer\", {})\n",
    "            display_name = organizer.get(\"displayName\", \"N/A\")\n",
    "            email = organizer.get(\"email\", \"N/A\")\n",
    "            if display_name != \"N/A\":\n",
    "                event_string += f\"Organizer: {display_name} ({email})\"\n",
    "            else:\n",
    "                event_string += f\"Organizer: {email}\"\n",
    "\n",
    "            results.append(Document(text=event_string))\n",
    "\n",
    "        return results\n",
    "\n",
    "    def _get_credentials(self) -> Any:\n",
    "        \"\"\"Get valid user credentials from storage.\n",
    "\n",
    "        The file token.json stores the user's access and refresh tokens, and is\n",
    "        created automatically when the authorization flow completes for the first\n",
    "        time.\n",
    "\n",
    "        Returns:\n",
    "            Credentials, the obtained credential.\n",
    "        \"\"\"\n",
    "        from google.auth.transport.requests import Request\n",
    "        from google.oauth2.credentials import Credentials\n",
    "        from google_auth_oauthlib.flow import InstalledAppFlow\n",
    "\n",
    "        creds = None\n",
    "        if os.path.exists(\"token.json\"):\n",
    "            creds = Credentials.from_authorized_user_file(\"token.json\", SCOPES)\n",
    "        # If there are no (valid) credentials available, let the user log in.\n",
    "        if not creds or not creds.valid:\n",
    "            if creds and creds.expired and creds.refresh_token:\n",
    "                creds.refresh(Request())\n",
    "            else:\n",
    "                flow = InstalledAppFlow.from_client_secrets_file(\n",
    "                    \"credentials.json\", SCOPES\n",
    "                )\n",
    "                creds = flow.run_local_server(port=8080)\n",
    "            # Save the credentials for the next run\n",
    "            with open(\"token.json\", \"w\") as token:\n",
    "                token.write(creds.to_json())\n",
    "\n",
    "        return creds\n",
    "\n",
    "    def create_event(\n",
    "        self,\n",
    "        title: Optional[str] = None,\n",
    "        description: Optional[str] = None,\n",
    "        location: Optional[str] = None,\n",
    "        start_datetime: Optional[Union[str, datetime.datetime]] = None,\n",
    "        end_datetime: Optional[Union[str, datetime.datetime]] = None,\n",
    "        attendees: Optional[List[str]] = None,\n",
    "    ) -> str:\n",
    "        \"\"\"\n",
    "            Create an event on the users calendar\n",
    "\n",
    "        Args:\n",
    "            title (Optional[str]): The title for the event\n",
    "            description (Optional[str]): The description for the event\n",
    "            location (Optional[str]): The location for the event\n",
    "            start_datetime Optional[Union[str, datetime.datetime]]: The start datetime for the event\n",
    "            end_datetime Optional[Union[str, datetime.datetime]]: The end datetime for the event\n",
    "            attendees Optional[List[str]]: A list of email address to invite to the event\n",
    "        \"\"\"\n",
    "\n",
    "        from googleapiclient.discovery import build\n",
    "\n",
    "        credentials = self._get_credentials()\n",
    "        service = build(\"calendar\", \"v3\", credentials=credentials)\n",
    "\n",
    "        attendees_list = []\n",
    "        for attendee in attendees:\n",
    "            attendees_list.append({\"email\": attendee})\n",
    "        start_time = (\n",
    "            datetime.datetime.strptime(start_datetime, \"%Y-%m-%dT%H:%M:%S\")\n",
    "            .astimezone()\n",
    "            .strftime(\"%Y-%m-%dT%H:%M:%S.%f%z\")\n",
    "        )\n",
    "        end_time = (\n",
    "            datetime.datetime.strptime(end_datetime, \"%Y-%m-%dT%H:%M:%S\")\n",
    "            .astimezone()\n",
    "            .strftime(\"%Y-%m-%dT%H:%M:%S.%f%z\")\n",
    "        )\n",
    "\n",
    "        event = {\n",
    "            \"summary\": title,\n",
    "            \"location\": location,\n",
    "            \"description\": description,\n",
    "            \"start\": {\n",
    "                \"dateTime\": start_time,\n",
    "            },\n",
    "            \"end\": {\n",
    "                \"dateTime\": end_time,\n",
    "            },\n",
    "            \"attendees\": attendees_list,\n",
    "        }\n",
    "        event = service.events().insert(calendarId=\"primary\", body=event).execute()\n",
    "        return (\n",
    "            \"Your calendar event has been created successfully! You can move on to the\"\n",
    "            \" next step.\"\n",
    "        )\n",
    "\n",
    "    def get_date(self):\n",
    "        \"\"\"\n",
    "        A function to return todays date. Call this before any other functions if you are unaware of the date\n",
    "        \"\"\"\n",
    "        \n",
    "        start_date =  datetime.date.today()\n",
    "\n",
    "        start_datetime = datetime.datetime.combine(start_date, datetime.time.min)\n",
    "        start_datetime_utc = start_datetime.strftime(\"%Y-%m-%dT%H:%M:%S.%fZ\")\n",
    "        return start_datetime_utc\n",
    "\n",
    "tool_spec = GoogleCalendarToolSpec()\n",
    "\n",
    "from llama_index.legacy.llms.ollama import Ollama\n",
    "from llama_index.core.agent import ReActAgent\n",
    "\n",
    "\n",
    "# Initialize Ollama LLM\n",
    "llm = Ollama(model=\"gemma2:2b\")  # You can change the model as needed\n",
    "\n",
    "# Create the Agent with our tools\n",
    "agent = ReActAgent.from_tools(\n",
    "    tool_spec.to_tool_list(),\n",
    "    llm=llm,\n",
    "    verbose=True\n",
    ")\n",
    "agent.chat(\"what is the first thing on my calendar today?\")\n"
   ]
  },
  {
   "cell_type": "code",
   "execution_count": null,
   "id": "483cce82-cc97-4dc7-a601-74f918ec12fe",
   "metadata": {},
   "outputs": [],
   "source": []
  }
 ],
 "metadata": {
  "kernelspec": {
   "display_name": "Python 3 (ipykernel)",
   "language": "python",
   "name": "python3"
  },
  "language_info": {
   "codemirror_mode": {
    "name": "ipython",
    "version": 3
   },
   "file_extension": ".py",
   "mimetype": "text/x-python",
   "name": "python",
   "nbconvert_exporter": "python",
   "pygments_lexer": "ipython3",
   "version": "3.12.4"
  }
 },
 "nbformat": 4,
 "nbformat_minor": 5
}
