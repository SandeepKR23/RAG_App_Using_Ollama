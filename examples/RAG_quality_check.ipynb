{
 "cells": [
  {
   "cell_type": "code",
   "execution_count": 1,
   "id": "4759e01a-f79f-425d-8805-0d39932d9958",
   "metadata": {
    "execution": {
     "iopub.execute_input": "2024-08-31T10:34:10.461959Z",
     "iopub.status.busy": "2024-08-31T10:34:10.461959Z",
     "iopub.status.idle": "2024-08-31T10:34:10.466237Z",
     "shell.execute_reply": "2024-08-31T10:34:10.465717Z",
     "shell.execute_reply.started": "2024-08-31T10:34:10.461959Z"
    }
   },
   "outputs": [],
   "source": [
    "import sys\n",
    "sys.path.insert(0, r\"C:\\Users\\rajab\\Desktop\\stuffs\\TimeLine\\2024\\08Aug\\RAG_Application\")"
   ]
  },
  {
   "cell_type": "code",
   "execution_count": 2,
   "id": "2b4c687c-06eb-4b64-bc7b-aa4e9365822f",
   "metadata": {
    "execution": {
     "iopub.execute_input": "2024-08-31T10:34:11.710162Z",
     "iopub.status.busy": "2024-08-31T10:34:11.710162Z",
     "iopub.status.idle": "2024-08-31T10:34:11.712641Z",
     "shell.execute_reply": "2024-08-31T10:34:11.712641Z",
     "shell.execute_reply.started": "2024-08-31T10:34:11.710162Z"
    }
   },
   "outputs": [],
   "source": [
    "from IPython.display import Markdown"
   ]
  },
  {
   "cell_type": "code",
   "execution_count": null,
   "id": "2d52bd68-df54-45f7-acc7-629e4ac3a939",
   "metadata": {},
   "outputs": [],
   "source": []
  },
  {
   "cell_type": "code",
   "execution_count": 3,
   "id": "009cd562-b25b-4613-a219-0bc9e664439d",
   "metadata": {
    "execution": {
     "iopub.execute_input": "2024-08-31T10:34:14.056645Z",
     "iopub.status.busy": "2024-08-31T10:34:14.056130Z",
     "iopub.status.idle": "2024-08-31T10:34:23.494198Z",
     "shell.execute_reply": "2024-08-31T10:34:23.494198Z",
     "shell.execute_reply.started": "2024-08-31T10:34:14.056645Z"
    }
   },
   "outputs": [],
   "source": [
    "from src.RAGSystem import RAGSystem\n",
    "from src.vectorStores import LocalVectorStore"
   ]
  },
  {
   "cell_type": "code",
   "execution_count": 4,
   "id": "468383a1-8850-45c6-bfc1-d7a1e61179de",
   "metadata": {
    "execution": {
     "iopub.execute_input": "2024-08-31T10:34:23.496791Z",
     "iopub.status.busy": "2024-08-31T10:34:23.495785Z",
     "iopub.status.idle": "2024-08-31T10:34:27.631932Z",
     "shell.execute_reply": "2024-08-31T10:34:27.630904Z",
     "shell.execute_reply.started": "2024-08-31T10:34:23.496791Z"
    }
   },
   "outputs": [
    {
     "name": "stderr",
     "output_type": "stream",
     "text": [
      "C:\\Users\\rajab\\miniconda3\\envs\\py3_120\\Lib\\site-packages\\langchain_core\\_api\\deprecation.py:141: LangChainDeprecationWarning: The class `HuggingFaceEmbeddings` was deprecated in LangChain 0.2.2 and will be removed in 0.3.0. An updated version of the class exists in the langchain-huggingface package and should be used instead. To use it run `pip install -U langchain-huggingface` and import as `from langchain_huggingface import HuggingFaceEmbeddings`.\n",
      "  warn_deprecated(\n",
      "C:\\Users\\rajab\\miniconda3\\envs\\py3_120\\Lib\\site-packages\\transformers\\tokenization_utils_base.py:1601: FutureWarning: `clean_up_tokenization_spaces` was not set. It will be set to `True` by default. This behavior will be depracted in transformers v4.45, and will be then set to `False` by default. For more details check this issue: https://github.com/huggingface/transformers/issues/31884\n",
      "  warnings.warn(\n"
     ]
    }
   ],
   "source": [
    "lvs = LocalVectorStore()\n",
    "# lvs.load(\"test\")"
   ]
  },
  {
   "cell_type": "code",
   "execution_count": 5,
   "id": "917281ee-d5b4-4489-ad7e-205e8b963008",
   "metadata": {
    "execution": {
     "iopub.execute_input": "2024-08-31T09:44:01.921005Z",
     "iopub.status.busy": "2024-08-31T09:44:01.921005Z",
     "iopub.status.idle": "2024-08-31T09:44:03.873473Z",
     "shell.execute_reply": "2024-08-31T09:44:03.873473Z",
     "shell.execute_reply.started": "2024-08-31T09:44:01.921005Z"
    }
   },
   "outputs": [],
   "source": [
    "lvs.add_pdf(\"2408.09632v2.pdf\")"
   ]
  },
  {
   "cell_type": "code",
   "execution_count": 5,
   "id": "50db700b-f62a-41a1-a416-57d904d65802",
   "metadata": {
    "execution": {
     "iopub.execute_input": "2024-08-31T10:05:50.367017Z",
     "iopub.status.busy": "2024-08-31T10:05:50.366007Z",
     "iopub.status.idle": "2024-08-31T10:06:03.806191Z",
     "shell.execute_reply": "2024-08-31T10:06:03.805188Z",
     "shell.execute_reply.started": "2024-08-31T10:05:50.366007Z"
    }
   },
   "outputs": [],
   "source": [
    "lvs.add_pdf(r\"C:\\Users\\rajab\\Desktop\\stuffs\\global\\files\\pdfs\\2023\\normalSpace\\healths\\Take Care of Yourself_ The Complete Illustrated Guide to Medical Self-Care   ( PDFDrive ).pdf\")"
   ]
  },
  {
   "cell_type": "code",
   "execution_count": 5,
   "id": "9291b9b8-8dc5-436a-8304-ac6b58922baa",
   "metadata": {
    "execution": {
     "iopub.execute_input": "2024-08-31T10:31:19.410686Z",
     "iopub.status.busy": "2024-08-31T10:31:19.409686Z",
     "iopub.status.idle": "2024-08-31T10:31:19.418716Z",
     "shell.execute_reply": "2024-08-31T10:31:19.417587Z",
     "shell.execute_reply.started": "2024-08-31T10:31:19.410686Z"
    }
   },
   "outputs": [
    {
     "data": {
      "text/plain": [
       "23.806451612903224"
      ]
     },
     "execution_count": 5,
     "metadata": {},
     "output_type": "execute_result"
    }
   ],
   "source": [
    "2* 369/31"
   ]
  },
  {
   "cell_type": "code",
   "execution_count": 5,
   "id": "bc059a84-1115-40f5-9c3d-d6be6b8b1b08",
   "metadata": {
    "execution": {
     "iopub.execute_input": "2024-08-31T10:34:36.848141Z",
     "iopub.status.busy": "2024-08-31T10:34:36.847012Z",
     "iopub.status.idle": "2024-08-31T10:34:47.764201Z",
     "shell.execute_reply": "2024-08-31T10:34:47.764201Z",
     "shell.execute_reply.started": "2024-08-31T10:34:36.848141Z"
    }
   },
   "outputs": [],
   "source": [
    "lvs.add_pdf(r\"C:\\Users\\rajab\\Desktop\\stuffs\\global\\files\\pdfs\\2023\\MathSpace\\category theory.pdf\")"
   ]
  },
  {
   "cell_type": "code",
   "execution_count": 6,
   "id": "df8b0f0c-aa9e-4b64-a4f6-a758ac38f355",
   "metadata": {
    "execution": {
     "iopub.execute_input": "2024-08-31T10:31:21.154386Z",
     "iopub.status.busy": "2024-08-31T10:31:21.154386Z",
     "iopub.status.idle": "2024-08-31T10:31:21.163342Z",
     "shell.execute_reply": "2024-08-31T10:31:21.162324Z",
     "shell.execute_reply.started": "2024-08-31T10:31:21.154386Z"
    }
   },
   "outputs": [
    {
     "data": {
      "text/plain": [
       "32.96774193548387"
      ]
     },
     "execution_count": 6,
     "metadata": {},
     "output_type": "execute_result"
    }
   ],
   "source": [
    "2* 511/31"
   ]
  },
  {
   "cell_type": "code",
   "execution_count": null,
   "id": "2062a05b-a31d-49f9-961e-a2e8a72998b6",
   "metadata": {},
   "outputs": [],
   "source": [
    "# lvs.add"
   ]
  },
  {
   "cell_type": "code",
   "execution_count": null,
   "id": "8505359d-1485-4e0f-931c-8cd95c2e3802",
   "metadata": {},
   "outputs": [],
   "source": []
  },
  {
   "cell_type": "code",
   "execution_count": 6,
   "id": "74a4b977-a8e4-416b-b996-c1f2ea19ecaf",
   "metadata": {
    "execution": {
     "iopub.execute_input": "2024-08-31T10:35:19.455128Z",
     "iopub.status.busy": "2024-08-31T10:35:19.455128Z",
     "iopub.status.idle": "2024-08-31T10:35:24.314586Z",
     "shell.execute_reply": "2024-08-31T10:35:24.314586Z",
     "shell.execute_reply.started": "2024-08-31T10:35:19.455128Z"
    }
   },
   "outputs": [
    {
     "name": "stderr",
     "output_type": "stream",
     "text": [
      "C:\\Users\\rajab\\miniconda3\\envs\\py3_120\\Lib\\site-packages\\transformers\\models\\bert\\modeling_bert.py:439: UserWarning: 1Torch was not compiled with flash attention. (Triggered internally at C:\\actions-runner\\_work\\pytorch\\pytorch\\builder\\windows\\pytorch\\aten\\src\\ATen\\native\\transformers\\cuda\\sdp_utils.cpp:555.)\n",
      "  attn_output = torch.nn.functional.scaled_dot_product_attention(\n"
     ]
    }
   ],
   "source": [
    "rag = RAGSystem()\n",
    "rag.set_vector_db(lvs.vector_store)\n"
   ]
  },
  {
   "cell_type": "code",
   "execution_count": 20,
   "id": "8bb06312-0683-4c4a-9f16-531a3f61f438",
   "metadata": {
    "execution": {
     "iopub.execute_input": "2024-08-31T10:02:50.259577Z",
     "iopub.status.busy": "2024-08-31T10:02:50.259577Z",
     "iopub.status.idle": "2024-08-31T10:02:50.263510Z",
     "shell.execute_reply": "2024-08-31T10:02:50.262501Z",
     "shell.execute_reply.started": "2024-08-31T10:02:50.259577Z"
    }
   },
   "outputs": [],
   "source": [
    "# rag.load_ollama()#(\"phi3:3.8b\")\n",
    "# res = rag.ask(\"how did they solve MLP compression?\")\n",
    "# print(res[\"answer\"])"
   ]
  },
  {
   "cell_type": "code",
   "execution_count": 11,
   "id": "0d8376ef-3061-45eb-8692-301479601278",
   "metadata": {
    "execution": {
     "iopub.execute_input": "2024-08-31T09:54:03.823741Z",
     "iopub.status.busy": "2024-08-31T09:54:03.823741Z",
     "iopub.status.idle": "2024-08-31T09:54:13.025882Z",
     "shell.execute_reply": "2024-08-31T09:54:13.025882Z",
     "shell.execute_reply.started": "2024-08-31T09:54:03.823741Z"
    }
   },
   "outputs": [
    {
     "name": "stdout",
     "output_type": "stream",
     "text": [
      "The document does not provide specific details on the methodology used for compressing the MLP module in LLAMA-2 7B within this context. It discusses various aspects of MoDeGPT, including theoretical bounds and algorithmic procedures relating to different modules' compression without delving into granular methods such as how exactly they solved the problem for each specific type (Type I: MLP). Generally speaking in terms of neural network optimization techniques when it comes to Layer-wise Relevance Propagation, one common approach is using sparsity constraints on activations or leveraging dropout during training phases. But since these are not mentioned directly here we'd need more information from the document itself or external sources for precise details regarding this specific case of MLP compression within LLAMA-2 7B model architecture.\n"
     ]
    }
   ],
   "source": [
    "rag.load_from_ollama_models(\"phi3:3.8b\")\n",
    "res = rag.ask(\"how did they solve MLP compression?\")\n",
    "print(res[\"answer\"])"
   ]
  },
  {
   "cell_type": "code",
   "execution_count": 12,
   "id": "1311690c-6d7a-41ce-aab4-4bde4022f8fe",
   "metadata": {
    "execution": {
     "iopub.execute_input": "2024-08-31T10:09:05.503951Z",
     "iopub.status.busy": "2024-08-31T10:09:05.503951Z",
     "iopub.status.idle": "2024-08-31T10:09:12.276055Z",
     "shell.execute_reply": "2024-08-31T10:09:12.275042Z",
     "shell.execute_reply.started": "2024-08-31T10:09:05.503951Z"
    }
   },
   "outputs": [
    {
     "data": {
      "text/markdown": [
       "According to the text, consuming a lot of salt can lead to:\n",
       "\n",
       "* **Swelling and fluid retention:**  Your body works harder to process the increased fluid volume. This leads to swelling in your legs, among other places. \n",
       "* **High blood pressure:**  Excessive sodium intake contributes to high blood pressure, which can then increase the risk of heart attack and stroke.\n",
       "* **Possible kidney problems:** Long-term, excessive salt intake could put a strain on your kidneys over time. \n",
       "\n",
       "\n",
       "The text emphasizes that reducing salt intake is important for overall health, particularly if you have pre-existing conditions like high blood pressure or heart failure. \n"
      ],
      "text/plain": [
       "<IPython.core.display.Markdown object>"
      ]
     },
     "execution_count": 12,
     "metadata": {},
     "output_type": "execute_result"
    }
   ],
   "source": [
    "rag.load_from_ollama_models(\"gemma2:2b\")\n",
    "res = rag.ask(\"what will happen if u intake alot of salt?\")\n",
    "Markdown(res[\"answer\"])"
   ]
  },
  {
   "cell_type": "code",
   "execution_count": 10,
   "id": "dfd01c4a-7d88-4643-a16f-d25d75fc9094",
   "metadata": {
    "execution": {
     "iopub.execute_input": "2024-08-31T10:38:32.811800Z",
     "iopub.status.busy": "2024-08-31T10:38:32.810802Z",
     "iopub.status.idle": "2024-08-31T10:39:04.130152Z",
     "shell.execute_reply": "2024-08-31T10:39:04.126336Z",
     "shell.execute_reply.started": "2024-08-31T10:38:32.810802Z"
    }
   },
   "outputs": [
    {
     "data": {
      "text/markdown": [
       "Let's break down preorders, morphisms, and explore exercise ideas in Python. \n",
       "\n",
       "**Understanding Preorders**\n",
       "\n",
       "* **Definition:** A preorder (often simplified as just \"pre-order\") on a set *S* is a structure that satisfies the following properties:\n",
       "    1. **Non-negativity:** For any elements *a*, *b* in *S*, if  *a ≤ b*, then there's a specific way to compare these elements (often indicated by \"<=\"). \n",
       "    2. **Transitivity:** If *a ≤ b* and *b ≤ c*, then *a ≤ c*.\n",
       "    3. **Reflexivity:** For each element in *S*, it has some relation with itself, but this can't always be the same for every other element (this is where the \"mostly directional\" part comes into play). \n",
       "\n",
       "**Think of Preorders as a Special Case of Categories** \n",
       "\n",
       "* **Preorders and Categories:** A preorder is essentially a *specialized* category. Imagine categories as more abstract, complex structures. A preorder is like a simpler version where you have to consider only the \"ordering\" between elements.  \n",
       "    \n",
       "**Key Concepts**\n",
       "\n",
       "1. **Morphisms:** A morphism (sometimes called a \"function\" in this context) represents an ordering relation. \n",
       "   * **Example:** If *a ≤ b*, then there's a special mapping or function from *S* to itself, where *a* gets mapped to *b*. The key is that the map should satisfy these properties (the pre-order constraints).\n",
       "\n",
       "2. **Hom-sets and Composition:**  Think about hom-sets as \"maps\" between objects in our preorder category:\n",
       "   * **Definition:** A hom-set of two elements *a* and *b* is simply a set that contains all the possible mappings from *a* to *b*.  For example, if we have an ordering (pre-order), then the hom-set C(a, b) would contain the specific mapping (function) between *a* and *b*. \n",
       "   * **Composition:** The composition of morphisms is like \"mapping\" one function into another based on this order. For example, we can say:  If a is less than or equal to b, then map a to b (it doesn't have to be the same in every case).  \n",
       "\n",
       "**Exercises & Python Implementation**\n",
       " \n",
       " **1. Basic Preorders with Python:**\n",
       "    ```python\n",
       "    class Preorder:\n",
       "        def __init__(self, items):\n",
       "            self.items = list(items)  # Create a list of elements for the preorder\n",
       "            self.relations = {} # create a dictionary to store the relations\n",
       "\n",
       "        def __repr__(self):\n",
       "            return f\"Preorder({self.items})\" \n",
       "    \n",
       "        def check_preorders(self, item1, item2):\n",
       "            if self.relations.get(item1) is None:\n",
       "                # if there's no relation for this item\n",
       "                print(f\"{item1} doesn't have any relations in the preorder.\") \n",
       "                return False  # return false as it has no relations\n",
       "\n",
       "            if self.relations[item2] == \"pre-order\" or self.relations[item2] == \"equal\": # we can check for equality if you have a relation defined\n",
       "                print(f\"{item2} is equal to {item1}\")\n",
       "                return True  # return true if the items are in relation\n",
       "            else: \n",
       "                print(\"Error: Relations not defined.\")  \n",
       "                return False\n",
       "\n",
       "    items = [10, 25, 5]\n",
       "    preorder = Preorder(items) # create a preorder object with specific elements \n",
       "   \n",
       "    # checking preorders. \n",
       "    check_preorders(preorder, 25, 10)  # check if the items are in relation to each other\n",
       "\n",
       "\n",
       "    ``` \n",
       "\n",
       "**2. Advanced Preorders (Category and Morphisms)**\n",
       "    \n",
       "    To delve deeper into categories and morphisms, we need to study their definitions and how they work together. You can then apply these concepts to implement more complex ordering structures that satisfy those rules.  Python is a great way to implement this:\n",
       "\n",
       "\n",
       "**3. Exploring Real-World Examples:**\n",
       "\n",
       "* **Trees:** Preorders are often used in data structures like trees to define hierarchical relations. \n",
       "* **Logic Systems:** Preorders can model logical relationships and decision-making.\n",
       "\n",
       "**Key Points**\n",
       "* **Preorders as a Foundation:** Preorders form the foundation for a more structured, ordered approach to working with sets of elements. \n",
       "\n",
       "\n",
       "Let me know if you'd like help building out any specific aspects of this!"
      ],
      "text/plain": [
       "<IPython.core.display.Markdown object>"
      ]
     },
     "execution_count": 10,
     "metadata": {},
     "output_type": "execute_result"
    }
   ],
   "source": [
    "rag.load_from_ollama_models(\"gemma2:2b\")\n",
    "res = rag.ask(\"what is preorders. Also explain each of the words like morphism, ... Generate some exercises which is doable by coding and also write python solution for it\")\n",
    "Markdown(res[\"answer\"])"
   ]
  },
  {
   "cell_type": "code",
   "execution_count": 14,
   "id": "96f61787-c987-4090-b3c0-c597bc9edac8",
   "metadata": {
    "execution": {
     "iopub.execute_input": "2024-08-31T10:12:28.690330Z",
     "iopub.status.busy": "2024-08-31T10:12:28.690330Z",
     "iopub.status.idle": "2024-08-31T10:12:34.409690Z",
     "shell.execute_reply": "2024-08-31T10:12:34.409690Z",
     "shell.execute_reply.started": "2024-08-31T10:12:28.690330Z"
    }
   },
   "outputs": [
    {
     "data": {
      "text/markdown": [
       "The Power of Prevention explains how healthy habits can help prevent a large range of health problems, leading to reduced disease risk overall. It also discusses the limitations of risk assessments and emphasizes using them in conjunction with lifestyle changes, education, and support for long-term success in preventing illness.  \n"
      ],
      "text/plain": [
       "<IPython.core.display.Markdown object>"
      ]
     },
     "execution_count": 14,
     "metadata": {},
     "output_type": "execute_result"
    }
   ],
   "source": [
    "rag.load_from_ollama_models(\"gemma2:2b\")\n",
    "res = rag.ask(\"What is The Power of Prevention.\")\n",
    "Markdown(res[\"answer\"])"
   ]
  },
  {
   "cell_type": "code",
   "execution_count": 22,
   "id": "b68d6fa6-8f1c-46c9-902d-4c17d80e2729",
   "metadata": {
    "execution": {
     "iopub.execute_input": "2024-08-31T10:22:35.616749Z",
     "iopub.status.busy": "2024-08-31T10:22:35.616749Z",
     "iopub.status.idle": "2024-08-31T10:22:42.388142Z",
     "shell.execute_reply": "2024-08-31T10:22:42.387061Z",
     "shell.execute_reply.started": "2024-08-31T10:22:35.616749Z"
    }
   },
   "outputs": [
    {
     "data": {
      "text/markdown": [
       "The text provides several ways to achieve and maintain good health, including:\n",
       "\n",
       "* **Regular Weigh-Ins:** Track weight regularly and maintain a healthy weight by adjusting your diet and exercise habits. \n",
       "* **Consistent Exercise:**  Keep up with regular physical activity for optimal well-being.\n",
       "* **Avoiding Injury:** Take precautions like wearing seat belts and ensuring children are properly secured in car seats to minimize risks. \n",
       "* **Healthy Habits:**  Focus on adopting healthy practices that feel good, such as exercise, a balanced diet, and avoiding nicotine.\n",
       "\n",
       "By implementing these preventative measures, you can significantly reduce your risk of illness and enjoy enhanced well-being throughout life. \n"
      ],
      "text/plain": [
       "<IPython.core.display.Markdown object>"
      ]
     },
     "execution_count": 22,
     "metadata": {},
     "output_type": "execute_result"
    }
   ],
   "source": [
    "rag.load_from_ollama_models(\"gemma2:2b\")\n",
    "res = rag.ask(\"how can we keep ourselves healthy?\")\n",
    "Markdown(res[\"answer\"])"
   ]
  },
  {
   "cell_type": "code",
   "execution_count": 26,
   "id": "bb3f3e05-5f17-48bf-883a-18f5fb59ce23",
   "metadata": {
    "execution": {
     "iopub.execute_input": "2024-08-31T10:24:48.533945Z",
     "iopub.status.busy": "2024-08-31T10:24:48.532715Z",
     "iopub.status.idle": "2024-08-31T10:24:54.902795Z",
     "shell.execute_reply": "2024-08-31T10:24:54.901789Z",
     "shell.execute_reply.started": "2024-08-31T10:24:48.533945Z"
    }
   },
   "outputs": [
    {
     "data": {
      "text/markdown": [
       "The text lists several health problems categorized into major types: \n",
       "\n",
       "**Major Health Issues:**\n",
       "* **Chronic diseases:** These are long-term illnesses, primarily affecting middle age and later.  Some examples include heart disease, cancer, emphysema, liver cirrhosis, which cause nearly 85% of all deaths in the U.S.\n",
       "* **Trauma at young ages:** This refers to injuries or conditions that occur during childhood or adolescence, which can lead to health problems down the line. The text doesn't detail specific examples.\n",
       "\n",
       "\n",
       "**Important Note:**  The provided text emphasizes how lifestyle choices can influence your health significantly, but it also lists common health issues as major causes of death and illness in the U.S. \n"
      ],
      "text/plain": [
       "<IPython.core.display.Markdown object>"
      ]
     },
     "execution_count": 26,
     "metadata": {},
     "output_type": "execute_result"
    }
   ],
   "source": [
    "rag.load_from_ollama_models(\"gemma2:2b\")\n",
    "res = rag.ask(\"what are the different health issues listed?\")\n",
    "Markdown(res[\"answer\"])"
   ]
  },
  {
   "cell_type": "code",
   "execution_count": null,
   "id": "64af3d2b-4eb3-49a5-a03a-c6f5df68dfc4",
   "metadata": {},
   "outputs": [],
   "source": []
  },
  {
   "cell_type": "code",
   "execution_count": 19,
   "id": "5fa70f74-c52d-44d9-9225-752f7e71da8a",
   "metadata": {
    "execution": {
     "iopub.execute_input": "2024-08-31T10:02:31.532896Z",
     "iopub.status.busy": "2024-08-31T10:02:31.532896Z",
     "iopub.status.idle": "2024-08-31T10:02:48.313145Z",
     "shell.execute_reply": "2024-08-31T10:02:48.313145Z",
     "shell.execute_reply.started": "2024-08-31T10:02:31.532896Z"
    }
   },
   "outputs": [
    {
     "data": {
      "text/markdown": [
       "Let's break down the concept of the Nyström Approximation in the context you provided:\n",
       "\n",
       "**What is a Nyström Approximation?**\n",
       "\n",
       "In machine learning, especially with neural networks (like those used in this paper), the goal is often to simplify complex calculations and reduce their computational burden. The Nyström Approximation helps with this by approximating a high-dimensional matrix with a low-dimensional one. \n",
       "\n",
       "**How it Works**\n",
       "\n",
       "1. **Original Matrix:** Imagine you have a large matrix, *C*, that represents the \"correlation\" of some input features (Xi). This is where the activation patterns in your neural network reside.\n",
       "2. **Low-Rank Approximation:**  The Nyström Approximation attempts to represent this complex *C* with a much simpler one, called *W*. Think of *W* as a smaller \"representative matrix.\" It's often designed so that its rank (number of linearly independent columns) is less than the original matrix. \n",
       "3. **\"Nyström Approximation Error\":** The difference between the original *C* and your simplified *W* is called the approximation error. This error is controlled by the choice of *W*.\n",
       "\n",
       "**Why It's Useful**\n",
       "\n",
       "* **Efficiency:** Replacing a complex *C* with a simpler *W* (the Nyström Approximation) drastically reduces computation when using matrix operations like:\n",
       "    * Finding the correlation between features\n",
       "    * Performing computations on the activation patterns in your neural network. \n",
       "* **Generalization:**  It's not just about speed; this method helps achieve better generalization, meaning the model can perform well on unseen examples, even though it simplified some of the complexity.\n",
       "\n",
       "**Connection to the Text You Provided**\n",
       "\n",
       "In the text you shared, they are applying a Nyström approximation specifically to compress matrix *C*. The key point is that:\n",
       "\n",
       "* **They use a lower-rank representation:**  By choosing *WUSk* for WU and *WD*, they ensure that the overall computational complexity of finding correlations or performing computations is reduced. \n",
       "* **It's related to activation correlation matrices:** Their approximation relies on the idea of capturing essential information from the input features (represented by Xi) using a smaller matrix, thereby reducing computation.\n",
       "\n",
       "**In Essence**\n",
       "\n",
       "The Nyström Approximation simplifies complex calculations within neural networks by representing them with lower-rank approximations. It's a powerful technique for improving efficiency and generalization! \n",
       "\n",
       "\n",
       "\n",
       "Let me know if you have any other questions about the text or need further clarification on this concept!"
      ],
      "text/plain": [
       "<IPython.core.display.Markdown object>"
      ]
     },
     "execution_count": 19,
     "metadata": {},
     "output_type": "execute_result"
    }
   ],
   "source": [
    "rag.load_from_ollama_models(\"gemma2:2b\")\n",
    "res = rag.ask(\"what is Nyström approximation ?\")\n",
    "Markdown(res[\"answer\"])"
   ]
  },
  {
   "cell_type": "code",
   "execution_count": 15,
   "id": "87b40144-be11-45ca-bd9b-a0bb300b2788",
   "metadata": {
    "execution": {
     "iopub.execute_input": "2024-08-31T10:01:47.560619Z",
     "iopub.status.busy": "2024-08-31T10:01:47.560619Z",
     "iopub.status.idle": "2024-08-31T10:01:47.567028Z",
     "shell.execute_reply": "2024-08-31T10:01:47.566021Z",
     "shell.execute_reply.started": "2024-08-31T10:01:47.560619Z"
    }
   },
   "outputs": [],
   "source": [
    "from IPython.display import Markdown"
   ]
  },
  {
   "cell_type": "code",
   "execution_count": 17,
   "id": "f8f9c962-ac74-4859-99f7-7d0302e0175f",
   "metadata": {
    "execution": {
     "iopub.execute_input": "2024-08-31T10:02:10.913095Z",
     "iopub.status.busy": "2024-08-31T10:02:10.913095Z",
     "iopub.status.idle": "2024-08-31T10:02:10.917745Z",
     "shell.execute_reply": "2024-08-31T10:02:10.916639Z",
     "shell.execute_reply.started": "2024-08-31T10:02:10.913095Z"
    }
   },
   "outputs": [],
   "source": [
    "# Markdown(res[\"answer\"])"
   ]
  },
  {
   "cell_type": "code",
   "execution_count": 20,
   "id": "6875887f-52b0-4489-a087-676f1f36ec22",
   "metadata": {
    "execution": {
     "iopub.execute_input": "2024-08-25T10:50:32.805913Z",
     "iopub.status.busy": "2024-08-25T10:50:32.805913Z",
     "iopub.status.idle": "2024-08-25T10:50:37.321019Z",
     "shell.execute_reply": "2024-08-25T10:50:37.321019Z",
     "shell.execute_reply.started": "2024-08-25T10:50:32.805913Z"
    }
   },
   "outputs": [
    {
     "name": "stdout",
     "output_type": "stream",
     "text": [
      "The given input string contains paths, which are represented by a string of characters. The goal is to count how often each direction appears in the path and write it in a file.\n",
      "To do this, a new string will be created with the following format:\n",
      "```csharp\n",
      "North D South S East A\n",
      "```\n"
     ]
    }
   ],
   "source": [
    "rag.load_from_ollama_models(\"qwen2:0.5b\")\n",
    "res = rag.ask(\"summarize the content\")\n",
    "print(res[\"answer\"])"
   ]
  },
  {
   "cell_type": "code",
   "execution_count": 18,
   "id": "ecef4917-388a-49ac-9947-cfe21510becf",
   "metadata": {
    "execution": {
     "iopub.execute_input": "2024-08-31T10:02:22.883917Z",
     "iopub.status.busy": "2024-08-31T10:02:22.883917Z",
     "iopub.status.idle": "2024-08-31T10:02:30.466524Z",
     "shell.execute_reply": "2024-08-31T10:02:30.465987Z",
     "shell.execute_reply.started": "2024-08-31T10:02:22.883917Z"
    }
   },
   "outputs": [
    {
     "data": {
      "text/markdown": [
       "For the MLP module, a modular decomposition method was applied to optimize both the weight matrix (WU) and bias matrix (WD). This approach involves selecting top k columns of WU based on their ridge leverage scores (siscores), which are calculated using the rank norm. The fused matrices (WUSk and WD†S⊤kC1/2σSk) were then selected as a final compressed version of MLP module, where S⊤kC1/2σSk is used to select top k columns based on the scores obtained from the ridge leverage score.\n",
       "\n",
       "So in summary, they applied modular decomposition for each module (MLP, Query & Key, and Value & Output) separately to optimize their parameters. This approach allowed them to optimize both weight matrices simultaneously, which was not possible when optimizing independent components."
      ],
      "text/plain": [
       "<IPython.core.display.Markdown object>"
      ]
     },
     "execution_count": 18,
     "metadata": {},
     "output_type": "execute_result"
    }
   ],
   "source": [
    "rag.load_from_ollama_models(\"qwen2:1.5b\")\n",
    "res = rag.ask(\"how did they solve MLP compression?\")\n",
    "Markdown(res[\"answer\"])"
   ]
  },
  {
   "cell_type": "code",
   "execution_count": 13,
   "id": "e715a81e-9ab5-4918-9175-f805f964c21b",
   "metadata": {
    "execution": {
     "iopub.execute_input": "2024-08-31T10:10:34.373954Z",
     "iopub.status.busy": "2024-08-31T10:10:34.372955Z",
     "iopub.status.idle": "2024-08-31T10:10:39.348823Z",
     "shell.execute_reply": "2024-08-31T10:10:39.345425Z",
     "shell.execute_reply.started": "2024-08-31T10:10:34.373954Z"
    }
   },
   "outputs": [
    {
     "data": {
      "text/markdown": [
       "If you take in too much salt, it can lead to problems like high blood pressure and heart disease. It's best to limit your sodium intake by reducing your salt consumption and using low-sodium alternatives when available."
      ],
      "text/plain": [
       "<IPython.core.display.Markdown object>"
      ]
     },
     "execution_count": 13,
     "metadata": {},
     "output_type": "execute_result"
    }
   ],
   "source": [
    "rag.load_from_ollama_models(\"qwen2:1.5b\")\n",
    "res = rag.ask(\"what will happen if u intake alot of salt?\")\n",
    "Markdown(res[\"answer\"])"
   ]
  },
  {
   "cell_type": "code",
   "execution_count": 17,
   "id": "2d3e73e8-41fe-4394-9d79-529641f48a63",
   "metadata": {
    "execution": {
     "iopub.execute_input": "2024-08-31T10:15:18.944125Z",
     "iopub.status.busy": "2024-08-31T10:15:18.943124Z",
     "iopub.status.idle": "2024-08-31T10:15:23.544225Z",
     "shell.execute_reply": "2024-08-31T10:15:23.544225Z",
     "shell.execute_reply.started": "2024-08-31T10:15:18.944125Z"
    }
   },
   "outputs": [
    {
     "data": {
      "text/markdown": [
       "The old joke about something pleasurable is that it's always \"more satisfying\" when you're lying."
      ],
      "text/plain": [
       "<IPython.core.display.Markdown object>"
      ]
     },
     "execution_count": 17,
     "metadata": {},
     "output_type": "execute_result"
    }
   ],
   "source": [
    "rag.load_from_ollama_models(\"qwen2:1.5b\")\n",
    "res = rag.ask(\"What is the old joke about something pleasurable?\")\n",
    "Markdown(res[\"answer\"])"
   ]
  },
  {
   "cell_type": "code",
   "execution_count": null,
   "id": "e4911eea-bb1b-4ecb-8314-2b5aedc6f2ca",
   "metadata": {},
   "outputs": [],
   "source": []
  },
  {
   "cell_type": "code",
   "execution_count": 1,
   "id": "368e31ba-d06c-49f5-85ce-719697bd9282",
   "metadata": {
    "execution": {
     "iopub.execute_input": "2024-08-29T06:56:44.628444Z",
     "iopub.status.busy": "2024-08-29T06:56:44.628444Z",
     "iopub.status.idle": "2024-08-29T06:56:44.698904Z",
     "shell.execute_reply": "2024-08-29T06:56:44.698904Z",
     "shell.execute_reply.started": "2024-08-29T06:56:44.628444Z"
    }
   },
   "outputs": [],
   "source": [
    "!start"
   ]
  },
  {
   "cell_type": "code",
   "execution_count": null,
   "id": "84834be5-c58e-4993-bbeb-0a70803cb96f",
   "metadata": {},
   "outputs": [],
   "source": []
  },
  {
   "cell_type": "code",
   "execution_count": 4,
   "id": "fb989fae-7486-4c7e-99fc-31454698f71f",
   "metadata": {
    "execution": {
     "iopub.execute_input": "2024-08-27T20:06:31.818877Z",
     "iopub.status.busy": "2024-08-27T20:06:31.817878Z",
     "iopub.status.idle": "2024-08-27T20:06:31.822852Z",
     "shell.execute_reply": "2024-08-27T20:06:31.821841Z",
     "shell.execute_reply.started": "2024-08-27T20:06:31.818877Z"
    }
   },
   "outputs": [],
   "source": []
  },
  {
   "cell_type": "code",
   "execution_count": null,
   "id": "447a96ff-99b1-4696-ab80-db5ed28652fc",
   "metadata": {},
   "outputs": [],
   "source": []
  },
  {
   "cell_type": "code",
   "execution_count": null,
   "id": "44564782-f237-4234-8ec0-90f4fe733068",
   "metadata": {},
   "outputs": [],
   "source": []
  },
  {
   "cell_type": "code",
   "execution_count": null,
   "id": "eeae58cc-63f5-4e18-b8f0-59c0f19ca225",
   "metadata": {},
   "outputs": [],
   "source": []
  },
  {
   "cell_type": "code",
   "execution_count": null,
   "id": "fdba2f96-66b9-4954-a6e8-8e2f3e00b727",
   "metadata": {},
   "outputs": [],
   "source": []
  },
  {
   "cell_type": "code",
   "execution_count": null,
   "id": "637fa70d-5ac1-4adc-8097-748ecf95f338",
   "metadata": {},
   "outputs": [],
   "source": []
  }
 ],
 "metadata": {
  "kernelspec": {
   "display_name": "Python 3 (ipykernel)",
   "language": "python",
   "name": "python3"
  },
  "language_info": {
   "codemirror_mode": {
    "name": "ipython",
    "version": 3
   },
   "file_extension": ".py",
   "mimetype": "text/x-python",
   "name": "python",
   "nbconvert_exporter": "python",
   "pygments_lexer": "ipython3",
   "version": "3.12.4"
  }
 },
 "nbformat": 4,
 "nbformat_minor": 5
}
